{
  "cells": [
    {
      "cell_type": "markdown",
      "metadata": {
        "execution": {},
        "id": "U12W6rJs7AwJ"
      },
      "source": [
        "# Music classification and generation with spectrograms\n"
      ]
    },
    {
      "cell_type": "code",
      "execution_count": 85,
      "metadata": {
        "execution": {},
        "id": "gf8PnKz97AwU"
      },
      "outputs": [],
      "source": [
        "# Import necessary libraries.\n",
        "import os\n",
        "import glob\n",
        "import imageio\n",
        "import random, shutil\n",
        "import torch\n",
        "import torch.nn as nn\n",
        "from tqdm.notebook import tqdm\n",
        "import torch.nn.functional as F\n",
        "import torchvision.datasets as datasets\n",
        "import torchvision.transforms as transforms\n",
        "import numpy as np\n",
        "import matplotlib.pyplot as plt\n",
        "import IPython.display as display\n",
        "import librosa\n",
        "import librosa.display\n",
        "import torch.optim.lr_scheduler as lr_scheduler"
      ]
    },
    {
      "cell_type": "code",
      "source": [
        "from google.colab import drive\n",
        "drive.mount('/content/drive')"
      ],
      "metadata": {
        "id": "gZzoLkw28Q9O",
        "outputId": "b660bc2d-9294-4301-a756-2fb8e3203545",
        "colab": {
          "base_uri": "https://localhost:8080/"
        }
      },
      "execution_count": 86,
      "outputs": [
        {
          "output_type": "stream",
          "name": "stdout",
          "text": [
            "Drive already mounted at /content/drive; to attempt to forcibly remount, call drive.mount(\"/content/drive\", force_remount=True).\n"
          ]
        }
      ]
    },
    {
      "cell_type": "markdown",
      "metadata": {
        "execution": {},
        "id": "mEn5CSp37Awe"
      },
      "source": [
        "## Train a simple CNN "
      ]
    },
    {
      "cell_type": "code",
      "execution_count": 87,
      "metadata": {
        "execution": {},
        "id": "Z9vo1RA97Awf"
      },
      "outputs": [],
      "source": [
        "def set_device():\n",
        "  device = \"cuda\" if torch.cuda.is_available() else \"cpu\"\n",
        "  if device != \"cuda\":\n",
        "      print(\"WARNING: For this notebook to perform best, \"\n",
        "          \"if possible, in the menu under `Runtime` -> \"\n",
        "          \"`Change runtime type.`  select `GPU` \")\n",
        "  else:\n",
        "      print(\"GPU is enabled in this notebook.\")\n",
        "\n",
        "  return device\n",
        "\n",
        "\n",
        "def plot_loss_accuracy(train_loss, train_acc, validation_loss, validation_acc):\n",
        "  epochs = len(train_loss)\n",
        "  fig, (ax1, ax2) = plt.subplots(1, 2)\n",
        "  ax1.plot(list(range(epochs)), train_loss, label='Training Loss')\n",
        "  ax1.plot(list(range(epochs)), validation_loss, label='Validation Loss')\n",
        "  ax1.set_xlabel('Epochs')\n",
        "  ax1.set_ylabel('Loss')\n",
        "  ax1.set_title('Epoch vs Loss')\n",
        "  ax1.legend()\n",
        "\n",
        "  ax2.plot(list(range(epochs)), train_acc, label='Training Accuracy')\n",
        "  ax2.plot(list(range(epochs)), validation_acc, label='Validation Accuracy')\n",
        "  ax2.set_xlabel('Epochs')\n",
        "  ax2.set_ylabel('Accuracy')\n",
        "  ax2.set_title('Epoch vs Accuracy')\n",
        "  ax2.legend()\n",
        "  fig.set_size_inches(15.5, 5.5)\n",
        "  plt.show()"
      ]
    },
    {
      "cell_type": "code",
      "execution_count": 88,
      "metadata": {
        "execution": {},
        "id": "eSoSeXZs7Awf",
        "outputId": "1bfb14eb-d516-40ce-e334-b8adbb19c00e",
        "colab": {
          "base_uri": "https://localhost:8080/"
        }
      },
      "outputs": [
        {
          "output_type": "stream",
          "name": "stdout",
          "text": [
            "GPU is enabled in this notebook.\n"
          ]
        }
      ],
      "source": [
        "device = set_device()"
      ]
    },
    {
      "cell_type": "code",
      "execution_count": 89,
      "metadata": {
        "execution": {},
        "id": "ergJH62G7Awg"
      },
      "outputs": [],
      "source": [
        "# Create folder with training, testing and validation data.\n",
        "\n",
        "spectrograms_dir = \"/content/drive/MyDrive/Data/Data/images_original/\"\n",
        "folder_names = ['/content/drive/MyDrive/Data/train/', '/content/drive/MyDrive/Data/test/', '/content/drive/MyDrive/Data/val/']\n",
        "train_dir = folder_names[0]\n",
        "test_dir = folder_names[1]\n",
        "val_dir = folder_names[2]\n",
        "\n",
        "for f in folder_names:\n",
        "  if os.path.exists(f):\n",
        "    shutil.rmtree(f)\n",
        "    os.mkdir(f)\n",
        "  else:\n",
        "    os.mkdir(f)\n",
        "\n",
        "# Loop over all genres\n",
        "genres = list(os.listdir(spectrograms_dir))\n",
        "for g in genres:\n",
        "  # find all images & split in train, test, and validation\n",
        "  src_file_paths= []\n",
        "  for im in glob.glob(os.path.join(spectrograms_dir, f'{g}',\"*.png\"), recursive=True):\n",
        "    src_file_paths.append(im)\n",
        "  random.shuffle(src_file_paths)\n",
        "  test_files = src_file_paths[0:10]\n",
        "  val_files = src_file_paths[10:20]\n",
        "  train_files = src_file_paths[20:]\n",
        "\n",
        "  #  make destination folders for train and test images\n",
        "  for f in folder_names:\n",
        "    if not os.path.exists(os.path.join(f + f\"{g}\")):\n",
        "      os.mkdir(os.path.join(f + f\"{g}\"))\n",
        "\n",
        "  # copy training and testing images over\n",
        "  for f in train_files:\n",
        "    shutil.copy(f, os.path.join(os.path.join(train_dir + f\"{g}\") + '/',os.path.split(f)[1]))\n",
        "  for f in test_files:\n",
        "    shutil.copy(f, os.path.join(os.path.join(test_dir + f\"{g}\") + '/',os.path.split(f)[1]))\n",
        "  for f in val_files:\n",
        "    shutil.copy(f, os.path.join(os.path.join(val_dir + f\"{g}\") + '/',os.path.split(f)[1]))"
      ]
    },
    {
      "cell_type": "code",
      "execution_count": 103,
      "metadata": {
        "execution": {},
        "id": "VD7dHm4w7Awh"
      },
      "outputs": [],
      "source": [
        "# Data loading.\n",
        "\n",
        "train_dataset = datasets.ImageFolder(\n",
        "    train_dir,\n",
        "    transforms.Compose([\n",
        "        transforms.ToTensor(),\n",
        "        # transforms.Normalize(mean=[0.485, 0.456, 0.406], std=[0.229, 0.224, 0.225])\n",
        "\n",
        "    ]))\n",
        "\n",
        "train_loader = torch.utils.data.DataLoader(\n",
        "    train_dataset, batch_size=25, shuffle=True, num_workers=0)\n",
        "\n",
        "val_dataset = datasets.ImageFolder(\n",
        "    val_dir,\n",
        "    transforms.Compose([\n",
        "        transforms.ToTensor(),\n",
        "        # transforms.Normalize(mean=[0.485, 0.456, 0.406], std=[0.229, 0.224, 0.225])\n",
        "\n",
        "    ]))\n",
        "\n",
        "val_loader = torch.utils.data.DataLoader(\n",
        "    val_dataset, batch_size=25, shuffle=True, num_workers=0)"
      ]
    },
    {
      "cell_type": "code",
      "execution_count": 100,
      "metadata": {
        "execution": {},
        "id": "Tl9-I4qg7Awh"
      },
      "outputs": [],
      "source": [
        "# Make a CNN & train it to predict genres.\n",
        "\n",
        "class music_net(nn.Module):\n",
        "  def __init__(self, dropout_rate=0.5):\n",
        "    \"\"\"Intitalize neural net layers\"\"\"\n",
        "    super(music_net, self).__init__()\n",
        "    self.conv1 = nn.Conv2d(in_channels=3, out_channels=8, kernel_size=3, stride=1, padding=0)\n",
        "    self.conv2 = nn.Conv2d(in_channels=8, out_channels=16, kernel_size=3, stride=1, padding=0)\n",
        "    self.conv3 = nn.Conv2d(in_channels=16, out_channels=32, kernel_size=3, stride=1, padding=0)\n",
        "    self.conv4 = nn.Conv2d(in_channels=32, out_channels=64, kernel_size=3, stride=1, padding=0)\n",
        "    self.conv5 = nn.Conv2d(in_channels=64, out_channels=128, kernel_size=3, stride=1, padding=0)\n",
        "\n",
        "    self.dropout_rate = dropout_rate\n",
        "    self.dropout = nn.Dropout(p=self.dropout_rate, inplace=False)\n",
        "\n",
        "    self.fc1 = nn.Linear(in_features=9856, out_features=10)\n",
        "\n",
        "    self.batchnorm1 = nn.BatchNorm2d(num_features=8)\n",
        "    self.batchnorm2 = nn.BatchNorm2d(num_features=16)\n",
        "    self.batchnorm3 = nn.BatchNorm2d(num_features=32)\n",
        "    self.batchnorm4 = nn.BatchNorm2d(num_features=64)\n",
        "    self.batchnorm5 = nn.BatchNorm2d(num_features=128)\n",
        "\n",
        "  def forward(self, x):\n",
        "    # Conv layer 1.\n",
        "    x = self.conv1(x)\n",
        "    x = self.batchnorm1(x)\n",
        "    x = F.relu(x)\n",
        "    x = F.max_pool2d(x, kernel_size=2)\n",
        "\n",
        "    # Conv layer 2.\n",
        "    x = self.conv2(x)\n",
        "    x = self.batchnorm2(x)\n",
        "    x = F.relu(x)\n",
        "    x = F.max_pool2d(x, kernel_size=2)\n",
        "\n",
        "    # Conv layer 3.\n",
        "    x = self.conv3(x)\n",
        "    x = self.batchnorm3(x)\n",
        "    x = F.relu(x)\n",
        "    x = F.max_pool2d(x, kernel_size=2)\n",
        "\n",
        "    # Conv layer 4.\n",
        "    x = self.conv4(x)\n",
        "    x = self.batchnorm4(x)\n",
        "    x = F.relu(x)\n",
        "    x = F.max_pool2d(x, kernel_size=2)\n",
        "\n",
        "    # Conv layer 5.\n",
        "    x = self.conv5(x)\n",
        "    x = self.batchnorm5(x)\n",
        "    x = F.relu(x)\n",
        "    x = F.max_pool2d(x, kernel_size=2)\n",
        "\n",
        "    # Fully connected layer 1.\n",
        "    x = torch.flatten(x, 1)\n",
        "    x = self.dropout(x)\n",
        "    x = self.fc1(x)\n",
        "    x = F.softmax(x, dim=1)\n",
        "\n",
        "    return x\n",
        "\n",
        "import torch.optim as optim #import for SGD optimiser\n",
        "\n",
        "def train(model, device, train_loader, validation_loader, epochs,dropout_rate=0.5, weight_decay=0.0):\n",
        "  criterion = nn.CrossEntropyLoss()\n",
        "  # optimizer = torch.optim.Adam(model.parameters(), lr=0.0005, weight_decay=weight_decay)\n",
        "  optimizer = optim.SGD(model.parameters(), lr=0.0007, momentum=0.9, weight_decay=weight_decay)\n",
        "\n",
        "  scheduler = lr_scheduler.StepLR(optimizer, step_size=10, gamma=0.01)\n",
        "\n",
        "  # #early stopping\n",
        "  # best_val_loss = float('inf')\n",
        "  # best_val_acc = 0\n",
        "  # early_stop_counter = 0\n",
        "\n",
        "  train_loss, validation_loss = [], []\n",
        "  train_acc, validation_acc = [], []\n",
        "\n",
        "  with tqdm(range(epochs), unit='epoch') as tepochs:\n",
        "    tepochs.set_description('Training')\n",
        "    for epoch in tepochs:\n",
        "      model.train()\n",
        "      # keep track of the running loss\n",
        "      running_loss = 0.\n",
        "      correct, total = 0, 0\n",
        "\n",
        "      for data, target in train_loader:\n",
        "        # getting the training set\n",
        "        data, target = data.to(device), target.to(device) # moves data to gpu\n",
        "        # Get the model output (call the model with the data from this batch)\n",
        "        output = model(data)\n",
        "        # Zero the gradients out\n",
        "        optimizer.zero_grad()\n",
        "        # Get the Loss\n",
        "        loss  = criterion(output, target)\n",
        "\n",
        "        # # L1 regularization\n",
        "        # l1_lambda = 0.0089\n",
        "        # l1_reg = torch.tensor(0.).to(device)\n",
        "        # for param in model.parameters():\n",
        "        #     l1_reg += torch.norm(param, 1)\n",
        "        # loss += l1_lambda * l1_reg\n",
        "\n",
        "        # L2 regularization\n",
        "        l2_lambda = 0.002\n",
        "        l2_reg = torch.tensor(0.).to(device)\n",
        "        for param in model.parameters():\n",
        "            l2_reg += torch.norm(param, 2)\n",
        "        loss += l2_lambda * l2_reg\n",
        "\n",
        "\n",
        "        # Calculate the gradients\n",
        "        loss.backward()\n",
        "        # Update the weights (using the training step of the optimizer)\n",
        "        optimizer.step()\n",
        "\n",
        "        tepochs.set_postfix(loss=loss.item())\n",
        "        running_loss += loss  # add the loss for this batch\n",
        "\n",
        "        # get accuracy\n",
        "        _, predicted = torch.max(output, 1)\n",
        "        total += target.size(0)\n",
        "        correct += (predicted == target).sum().item()\n",
        "\n",
        "      # append the loss for this epoch\n",
        "      train_loss.append(running_loss.detach().cpu().item()/len(train_loader))\n",
        "      train_acc.append(correct/total)\n",
        "\n",
        "      # evaluate on validation data\n",
        "      model.eval()\n",
        "      running_loss = 0.\n",
        "      correct, total = 0, 0\n",
        "\n",
        "      with torch.no_grad():\n",
        "        for data, target in validation_loader:\n",
        "          # getting the validation set\n",
        "          data, target = data.to(device), target.to(device) #moves data to gpu\n",
        "          optimizer.zero_grad()\n",
        "          output = model(data)\n",
        "          loss = criterion(output, target)\n",
        "          tepochs.set_postfix(loss=loss.item())\n",
        "          running_loss += loss.item()\n",
        "          # get accuracy\n",
        "          _, predicted = torch.max(output, 1)\n",
        "          total += target.size(0)\n",
        "          correct += (predicted == target).sum().item()\n",
        "\n",
        "      validation_loss.append(running_loss/len(validation_loader))\n",
        "      validation_acc.append(correct/total)\n",
        "\n",
        "  # # EARLY STOPPING\n",
        "  #     # Check if the validation loss has improved\n",
        "  #     if validation_loss[-1] < best_val_loss:\n",
        "  #         best_val_loss = validation_loss[-1]\n",
        "  #         best_val_acc = validation_acc[-1]\n",
        "  #         early_stop_counter = 0\n",
        "  #     else:\n",
        "  #         early_stop_counter += 1\n",
        "\n",
        "  #     # Stop training if the validation loss has not improved for 'patience' epochs\n",
        "  #     if early_stop_counter >= patience:\n",
        "  #         print(f\"Early stopping at epoch {epoch+1}!\")\n",
        "  #         break\n",
        "  #   tepochs.set_postfix(train_loss=train_loss[-1], val_loss=validation_loss[-1])\n",
        "\n",
        "  #   print(f\"Best validation loss: {best_val_loss}\")\n",
        "  #   print(f\"Best validation accuracy: {best_val_acc}\")\n",
        "\n",
        "    print(train_acc) \n",
        "\n",
        "    scheduler.step()\n",
        "\n",
        "    return train_loss, train_acc, validation_loss, validation_acc"
      ]
    },
    {
      "cell_type": "code",
      "execution_count": 104,
      "metadata": {
        "execution": {},
        "id": "D2NQOZI_7Awj",
        "colab": {
          "base_uri": "https://localhost:8080/",
          "height": 506,
          "referenced_widgets": [
            "d2c44df463ee4d7e9ba365057585e7da",
            "774ff37d9f2942339de64258ecd562ad",
            "a15ec30311ef4a55a91aae06c975a30f",
            "8e986e41061a41189ef5b5557187a065",
            "b2dcdb2446144ba79a58b81d1af2654d",
            "8b3e7b8c6b554c469243ce59faad594d",
            "f274e97d3a224d46a939ae13f34e81be",
            "254b8dcf45474c6c9b3ec0013af6fba5",
            "134bb08efddd40879e020e236b9bc2e6",
            "a0ced119701d4a6dbb90e57183133354",
            "50936b4c56f74a8eab0c1f15001edb91"
          ]
        },
        "outputId": "7cf0c447-501b-43be-85f8-c6f19a95afd5"
      },
      "outputs": [
        {
          "output_type": "display_data",
          "data": {
            "text/plain": [
              "  0%|          | 0/50 [00:00<?, ?epoch/s]"
            ],
            "application/vnd.jupyter.widget-view+json": {
              "version_major": 2,
              "version_minor": 0,
              "model_id": "d2c44df463ee4d7e9ba365057585e7da"
            }
          },
          "metadata": {}
        },
        {
          "output_type": "stream",
          "name": "stdout",
          "text": [
            "[0.12015018773466833, 0.246558197747184, 0.3216520650813517, 0.36795994993742176, 0.3979974968710889, 0.40550688360450565, 0.43929912390488113, 0.48685857321652065, 0.5131414267834794, 0.5531914893617021, 0.5894868585732165, 0.6132665832290363, 0.6332916145181476, 0.6733416770963705, 0.6808510638297872, 0.6958698372966208, 0.7384230287859824, 0.7622027534418022, 0.785982478097622, 0.7934918648310388, 0.799749687108886, 0.7984981226533167, 0.804755944931164, 0.8297872340425532, 0.851063829787234, 0.8423028785982478, 0.8635794743429287, 0.8723404255319149, 0.8635794743429287, 0.8785982478097623, 0.8898623279098874, 0.899874843554443, 0.9036295369211514, 0.9011264080100125, 0.9224030037546934, 0.9173967459324155, 0.9236545682102628, 0.932415519399249, 0.9311639549436797, 0.9361702127659575, 0.9299123904881101, 0.9411764705882353, 0.9436795994993742, 0.9474342928660826, 0.9461827284105131, 0.9561952440550688, 0.9486858573216521, 0.9561952440550688, 0.9561952440550688, 0.9586983729662077]\n"
          ]
        },
        {
          "output_type": "display_data",
          "data": {
            "text/plain": [
              "<Figure size 1550x550 with 2 Axes>"
            ],
            "image/png": "[encoded data removed]"
          },
          "metadata": {}
        }
      ],
      "source": [
        "# Run training.\n",
        "\n",
        "net = music_net().to(device)\n",
        "train_loss, train_acc, validation_loss, validation_acc = train(net, device, train_loader, val_loader, 50)\n",
        "\n",
        "# Detach tensors from GPU\n",
        "plot_loss_accuracy(train_loss, train_acc, validation_loss, validation_acc)"
      ]
    },
    {
      "cell_type": "code",
      "source": [
        "# TEST ACCURACY\n",
        "def evaluate(model, device, test_loader):\n",
        "    model.eval()\n",
        "    correct = 0\n",
        "    total = 0\n",
        "\n",
        "    with torch.no_grad():\n",
        "        for data, target in test_loader:\n",
        "            data, target = data.to(device), target.to(device)\n",
        "            output = model(data)\n",
        "            _, predicted = torch.max(output.data, 1)\n",
        "            total += target.size(0)\n",
        "            correct += (predicted == target).sum().item()\n",
        "\n",
        "    accuracy = correct / total\n",
        "    return accuracy\n",
        "\n",
        "# Load the test dataset\n",
        "test_dataset = datasets.ImageFolder(\n",
        "    test_dir,\n",
        "    transforms.Compose([\n",
        "        transforms.ToTensor(),\n",
        "    ]))\n",
        "\n",
        "# Create the data loader for testing\n",
        "test_loader = torch.utils.data.DataLoader(test_dataset, batch_size=25, shuffle=False)\n",
        "\n",
        "# Evaluate the model on the test dataset\n",
        "test_accuracy = evaluate(net, device, test_loader)\n",
        "print('Test Accuracy:', test_accuracy)\n"
      ],
      "metadata": {
        "id": "gX-WIjkYFTMI",
        "colab": {
          "base_uri": "https://localhost:8080/"
        },
        "outputId": "6c09b5c2-f1cf-480e-e8a8-3ddf6446149e"
      },
      "execution_count": 105,
      "outputs": [
        {
          "output_type": "stream",
          "name": "stdout",
          "text": [
            "Test Accuracy: 0.72\n"
          ]
        }
      ]
    },
    {
      "cell_type": "code",
      "source": [
        "import torchvision.transforms.functional as TF\n",
        "from PIL import Image\n",
        "\n",
        "# Load and preprocess the image\n",
        "image_path = \"/content/drive/MyDrive/Data/Data/images_original/country/country00000.png\"  # Update with the actual path to your spectrogram image\n",
        "image = Image.open(image_path)\n",
        "input_image = image.convert(\"RGB\")\n",
        "input_tensor = TF.to_tensor(input_image)\n",
        "input_tensor = input_tensor.unsqueeze(0)\n",
        "\n",
        "# Perform the classification\n",
        "with torch.no_grad():\n",
        "    input_tensor = input_tensor.to(device)\n",
        "    output = net(input_tensor)\n",
        "\n",
        "# Get the predicted genre\n",
        "_, predicted_idx = torch.max(output, 1)\n",
        "predicted_genre = train_dataset.classes[predicted_idx]\n",
        "print(\"Predicted class:\", predicted_genre)\n",
        "\n"
      ],
      "metadata": {
        "id": "iHIToq-hXvue",
        "colab": {
          "base_uri": "https://localhost:8080/"
        },
        "outputId": "32e493f8-ceba-4682-d002-d3d511c844d6"
      },
      "execution_count": 108,
      "outputs": [
        {
          "output_type": "stream",
          "name": "stdout",
          "text": [
            "Predicted class: country\n"
          ]
        }
      ]
    },
    {
      "cell_type": "code",
      "source": [
        "from sklearn.metrics import confusion_matrix\n",
        "import numpy as np\n",
        "import matplotlib.pyplot as plt\n",
        "\n",
        "# Predict the labels for the test data\n",
        "predictions = []\n",
        "true_labels = []\n",
        "with torch.no_grad():\n",
        "    for data, target in test_loader:\n",
        "        data, target = data.to(device), target.to(device)\n",
        "        output = net(data)\n",
        "        _, predicted = torch.max(output, 1)\n",
        "        predictions.extend(predicted.cpu().numpy())\n",
        "        true_labels.extend(target.cpu().numpy())\n",
        "\n",
        "# Convert predictions and true labels to NumPy arrays\n",
        "predictions = np.array(predictions)\n",
        "true_labels = np.array(true_labels)\n",
        "\n",
        "# Create the confusion matrix\n",
        "cm = confusion_matrix(true_labels, predictions)\n",
        "\n",
        "# Define class names\n",
        "class_names = ['blue', 'classical', 'country', 'disco', 'hiphop', 'jazz', 'metal', 'pop', 'reggae', 'rock']\n",
        "\n",
        "# Plot the confusion matrix\n",
        "plt.figure(figsize=(8, 6))\n",
        "plt.imshow(cm, interpolation='nearest', cmap=plt.cm.Blues)\n",
        "plt.title('Confusion Matrix')\n",
        "plt.colorbar()\n",
        "tick_marks = np.arange(len(class_names))\n",
        "plt.xticks(tick_marks, class_names, rotation=45)\n",
        "plt.yticks(tick_marks, class_names)\n",
        "plt.xlabel('Predicted Class')\n",
        "plt.ylabel('True Class')\n",
        "plt.show()\n"
      ],
      "metadata": {
        "colab": {
          "base_uri": "https://localhost:8080/",
          "height": 601
        },
        "id": "_HfxxPE1-YK8",
        "outputId": "79f5888a-9987-4da2-b9c5-d0a824b4f67e"
      },
      "execution_count": 114,
      "outputs": [
        {
          "output_type": "display_data",
          "data": {
            "text/plain": [
              "<Figure size 800x600 with 2 Axes>"
            ],
            "image/png": "[encoded data removed]"
          },
          "metadata": {}
        }
      ]
    },
    {
      "cell_type": "code",
      "source": [
        "# # AUGMENTATION\n",
        "\n",
        "# import torchvision.transforms as transforms\n",
        "\n",
        "# # Define the data transformations for augmentation\n",
        "# augmentation_transform = transforms.Compose([\n",
        "#     transforms.RandomCrop(size=(224, 224)),  # Randomly crop the spectrogram\n",
        "#     transforms.RandomHorizontalFlip(),  # Randomly flip the spectrogram horizontally\n",
        "#     transforms.ToTensor(),  # Convert the spectrogram to a tensor\n",
        "#     transforms.Normalize(mean=[0.5], std=[0.5])  # Normalize the spectrogram\n",
        "# ])\n",
        "\n",
        "# # Create the augmented dataset\n",
        "# augmented_dataset = datasets.ImageFolder(\n",
        "#     train_dir,\n",
        "#     transforms.Compose([\n",
        "#         transforms.ToTensor(),\n",
        "#     ]))\n",
        "\n",
        "# # Create the data loader for augmented training data\n",
        "# augmented_train_loader = torch.utils.data.DataLoader(augmented_dataset, batch_size=25, shuffle=True)\n",
        "\n",
        "# # Run training with augmented data\n",
        "# train_loss, train_acc, validation_loss, validation_acc = train(net, device, augmented_train_loader, val_loader, 50)\n",
        "\n",
        "# plot_loss_accuracy(train_loss, train_acc, validation_loss, validation_acc)\n",
        "\n",
        "# # Evaluate on the test dataset\n",
        "# test_accuracy = evaluate(net, device, test_loader)\n",
        "# print('Test Accuracy:', test_accuracy)"
      ],
      "metadata": {
        "colab": {
          "base_uri": "https://localhost:8080/",
          "height": 521,
          "referenced_widgets": [
            "4af9752bd1e94f5eba42698872f5360b",
            "13d959f22d8e4f52918fd854fa11a924",
            "e0644b66bd1f4b0d9cd518653cc51ac0",
            "c708d2a689d249d784ab03cba1e0f6df",
            "f961dedb95c041a996f696483afa5d54",
            "25205e2538d941488b5012792ad6f28d",
            "f1885cb8bde34f928200ef9305db3381",
            "8342bae7a89b417285a8cbaf9c19b27b",
            "4d851b964709407f9703cf2ede52ec1a",
            "d6897b8ad13c4d65a9d00995c274c604",
            "00ea111cacf248a9950909975a082204"
          ]
        },
        "id": "KRFIS55RrcST",
        "outputId": "8c075613-29f2-4821-e016-722109033c34"
      },
      "execution_count": 107,
      "outputs": [
        {
          "output_type": "display_data",
          "data": {
            "text/plain": [
              "  0%|          | 0/50 [00:00<?, ?epoch/s]"
            ],
            "application/vnd.jupyter.widget-view+json": {
              "version_major": 2,
              "version_minor": 0,
              "model_id": "4af9752bd1e94f5eba42698872f5360b"
            }
          },
          "metadata": {}
        },
        {
          "output_type": "stream",
          "name": "stdout",
          "text": [
            "[0.967459324155194, 0.9637046307884856, 0.9624530663329162, 0.9687108886107635, 0.9649561952440551, 0.967459324155194, 0.967459324155194, 0.9724655819774718, 0.9699624530663329, 0.9712140175219024, 0.9724655819774718, 0.9699624530663329, 0.9749687108886108, 0.9724655819774718, 0.9749687108886108, 0.9762202753441802, 0.9787234042553191, 0.9749687108886108, 0.9799749687108886, 0.9762202753441802, 0.9799749687108886, 0.9787234042553191, 0.9787234042553191, 0.9799749687108886, 0.9787234042553191, 0.9799749687108886, 0.9799749687108886, 0.981226533166458, 0.9799749687108886, 0.9787234042553191, 0.9787234042553191, 0.9799749687108886, 0.9787234042553191, 0.9824780976220275, 0.981226533166458, 0.981226533166458, 0.9824780976220275, 0.9824780976220275, 0.981226533166458, 0.983729662077597, 0.9824780976220275, 0.983729662077597, 0.983729662077597, 0.983729662077597, 0.983729662077597, 0.9824780976220275, 0.9824780976220275, 0.9824780976220275, 0.983729662077597, 0.983729662077597]\n"
          ]
        },
        {
          "output_type": "display_data",
          "data": {
            "text/plain": [
              "<Figure size 1550x550 with 2 Axes>"
            ],
            "image/png": "[encoded data removed]"
          },
          "metadata": {}
        },
        {
          "output_type": "stream",
          "name": "stdout",
          "text": [
            "Test Accuracy: 0.73\n"
          ]
        }
      ]
    }
  ],
  "metadata": {
    "accelerator": "GPU",
    "colab": {
      "provenance": [],
      "gpuType": "T4"
    },
    "gpuClass": "standard",
    "kernel": {
      "display_name": "Python 3",
      "language": "python",
      "name": "python3"
    },
    "kernelspec": {
      "display_name": "Python 3",
      "name": "python3"
    },
    "language_info": {
      "name": "python"
    },
    "widgets": {
      "application/vnd.jupyter.widget-state+json": {
        "d2c44df463ee4d7e9ba365057585e7da": {
          "model_module": "@jupyter-widgets/controls",
          "model_name": "HBoxModel",
          "model_module_version": "1.5.0",
          "state": {
            "_dom_classes": [],
            "_model_module": "@jupyter-widgets/controls",
            "_model_module_version": "1.5.0",
            "_model_name": "HBoxModel",
            "_view_count": null,
            "_view_module": "@jupyter-widgets/controls",
            "_view_module_version": "1.5.0",
            "_view_name": "HBoxView",
            "box_style": "",
            "children": [
              "IPY_MODEL_774ff37d9f2942339de64258ecd562ad",
              "IPY_MODEL_a15ec30311ef4a55a91aae06c975a30f",
              "IPY_MODEL_8e986e41061a41189ef5b5557187a065"
            ],
            "layout": "IPY_MODEL_b2dcdb2446144ba79a58b81d1af2654d"
          }
        },
        "774ff37d9f2942339de64258ecd562ad": {
          "model_module": "@jupyter-widgets/controls",
          "model_name": "HTMLModel",
          "model_module_version": "1.5.0",
          "state": {
            "_dom_classes": [],
            "_model_module": "@jupyter-widgets/controls",
            "_model_module_version": "1.5.0",
            "_model_name": "HTMLModel",
            "_view_count": null,
            "_view_module": "@jupyter-widgets/controls",
            "_view_module_version": "1.5.0",
            "_view_name": "HTMLView",
            "description": "",
            "description_tooltip": null,
            "layout": "IPY_MODEL_8b3e7b8c6b554c469243ce59faad594d",
            "placeholder": "​",
            "style": "IPY_MODEL_f274e97d3a224d46a939ae13f34e81be",
            "value": "Training: 100%"
          }
        },
        "a15ec30311ef4a55a91aae06c975a30f": {
          "model_module": "@jupyter-widgets/controls",
          "model_name": "FloatProgressModel",
          "model_module_version": "1.5.0",
          "state": {
            "_dom_classes": [],
            "_model_module": "@jupyter-widgets/controls",
            "_model_module_version": "1.5.0",
            "_model_name": "FloatProgressModel",
            "_view_count": null,
            "_view_module": "@jupyter-widgets/controls",
            "_view_module_version": "1.5.0",
            "_view_name": "ProgressView",
            "bar_style": "success",
            "description": "",
            "description_tooltip": null,
            "layout": "IPY_MODEL_254b8dcf45474c6c9b3ec0013af6fba5",
            "max": 50,
            "min": 0,
            "orientation": "horizontal",
            "style": "IPY_MODEL_134bb08efddd40879e020e236b9bc2e6",
            "value": 50
          }
        },
        "8e986e41061a41189ef5b5557187a065": {
          "model_module": "@jupyter-widgets/controls",
          "model_name": "HTMLModel",
          "model_module_version": "1.5.0",
          "state": {
            "_dom_classes": [],
            "_model_module": "@jupyter-widgets/controls",
            "_model_module_version": "1.5.0",
            "_model_name": "HTMLModel",
            "_view_count": null,
            "_view_module": "@jupyter-widgets/controls",
            "_view_module_version": "1.5.0",
            "_view_name": "HTMLView",
            "description": "",
            "description_tooltip": null,
            "layout": "IPY_MODEL_a0ced119701d4a6dbb90e57183133354",
            "placeholder": "​",
            "style": "IPY_MODEL_50936b4c56f74a8eab0c1f15001edb91",
            "value": " 50/50 [06:46&lt;00:00,  8.34s/epoch, loss=1.73]"
          }
        },
        "b2dcdb2446144ba79a58b81d1af2654d": {
          "model_module": "@jupyter-widgets/base",
          "model_name": "LayoutModel",
          "model_module_version": "1.2.0",
          "state": {
            "_model_module": "@jupyter-widgets/base",
            "_model_module_version": "1.2.0",
            "_model_name": "LayoutModel",
            "_view_count": null,
            "_view_module": "@jupyter-widgets/base",
            "_view_module_version": "1.2.0",
            "_view_name": "LayoutView",
            "align_content": null,
            "align_items": null,
            "align_self": null,
            "border": null,
            "bottom": null,
            "display": null,
            "flex": null,
            "flex_flow": null,
            "grid_area": null,
            "grid_auto_columns": null,
            "grid_auto_flow": null,
            "grid_auto_rows": null,
            "grid_column": null,
            "grid_gap": null,
            "grid_row": null,
            "grid_template_areas": null,
            "grid_template_columns": null,
            "grid_template_rows": null,
            "height": null,
            "justify_content": null,
            "justify_items": null,
            "left": null,
            "margin": null,
            "max_height": null,
            "max_width": null,
            "min_height": null,
            "min_width": null,
            "object_fit": null,
            "object_position": null,
            "order": null,
            "overflow": null,
            "overflow_x": null,
            "overflow_y": null,
            "padding": null,
            "right": null,
            "top": null,
            "visibility": null,
            "width": null
          }
        },
        "8b3e7b8c6b554c469243ce59faad594d": {
          "model_module": "@jupyter-widgets/base",
          "model_name": "LayoutModel",
          "model_module_version": "1.2.0",
          "state": {
            "_model_module": "@jupyter-widgets/base",
            "_model_module_version": "1.2.0",
            "_model_name": "LayoutModel",
            "_view_count": null,
            "_view_module": "@jupyter-widgets/base",
            "_view_module_version": "1.2.0",
            "_view_name": "LayoutView",
            "align_content": null,
            "align_items": null,
            "align_self": null,
            "border": null,
            "bottom": null,
            "display": null,
            "flex": null,
            "flex_flow": null,
            "grid_area": null,
            "grid_auto_columns": null,
            "grid_auto_flow": null,
            "grid_auto_rows": null,
            "grid_column": null,
            "grid_gap": null,
            "grid_row": null,
            "grid_template_areas": null,
            "grid_template_columns": null,
            "grid_template_rows": null,
            "height": null,
            "justify_content": null,
            "justify_items": null,
            "left": null,
            "margin": null,
            "max_height": null,
            "max_width": null,
            "min_height": null,
            "min_width": null,
            "object_fit": null,
            "object_position": null,
            "order": null,
            "overflow": null,
            "overflow_x": null,
            "overflow_y": null,
            "padding": null,
            "right": null,
            "top": null,
            "visibility": null,
            "width": null
          }
        },
        "f274e97d3a224d46a939ae13f34e81be": {
          "model_module": "@jupyter-widgets/controls",
          "model_name": "DescriptionStyleModel",
          "model_module_version": "1.5.0",
          "state": {
            "_model_module": "@jupyter-widgets/controls",
            "_model_module_version": "1.5.0",
            "_model_name": "DescriptionStyleModel",
            "_view_count": null,
            "_view_module": "@jupyter-widgets/base",
            "_view_module_version": "1.2.0",
            "_view_name": "StyleView",
            "description_width": ""
          }
        },
        "254b8dcf45474c6c9b3ec0013af6fba5": {
          "model_module": "@jupyter-widgets/base",
          "model_name": "LayoutModel",
          "model_module_version": "1.2.0",
          "state": {
            "_model_module": "@jupyter-widgets/base",
            "_model_module_version": "1.2.0",
            "_model_name": "LayoutModel",
            "_view_count": null,
            "_view_module": "@jupyter-widgets/base",
            "_view_module_version": "1.2.0",
            "_view_name": "LayoutView",
            "align_content": null,
            "align_items": null,
            "align_self": null,
            "border": null,
            "bottom": null,
            "display": null,
            "flex": null,
            "flex_flow": null,
            "grid_area": null,
            "grid_auto_columns": null,
            "grid_auto_flow": null,
            "grid_auto_rows": null,
            "grid_column": null,
            "grid_gap": null,
            "grid_row": null,
            "grid_template_areas": null,
            "grid_template_columns": null,
            "grid_template_rows": null,
            "height": null,
            "justify_content": null,
            "justify_items": null,
            "left": null,
            "margin": null,
            "max_height": null,
            "max_width": null,
            "min_height": null,
            "min_width": null,
            "object_fit": null,
            "object_position": null,
            "order": null,
            "overflow": null,
            "overflow_x": null,
            "overflow_y": null,
            "padding": null,
            "right": null,
            "top": null,
            "visibility": null,
            "width": null
          }
        },
        "134bb08efddd40879e020e236b9bc2e6": {
          "model_module": "@jupyter-widgets/controls",
          "model_name": "ProgressStyleModel",
          "model_module_version": "1.5.0",
          "state": {
            "_model_module": "@jupyter-widgets/controls",
            "_model_module_version": "1.5.0",
            "_model_name": "ProgressStyleModel",
            "_view_count": null,
            "_view_module": "@jupyter-widgets/base",
            "_view_module_version": "1.2.0",
            "_view_name": "StyleView",
            "bar_color": null,
            "description_width": ""
          }
        },
        "a0ced119701d4a6dbb90e57183133354": {
          "model_module": "@jupyter-widgets/base",
          "model_name": "LayoutModel",
          "model_module_version": "1.2.0",
          "state": {
            "_model_module": "@jupyter-widgets/base",
            "_model_module_version": "1.2.0",
            "_model_name": "LayoutModel",
            "_view_count": null,
            "_view_module": "@jupyter-widgets/base",
            "_view_module_version": "1.2.0",
            "_view_name": "LayoutView",
            "align_content": null,
            "align_items": null,
            "align_self": null,
            "border": null,
            "bottom": null,
            "display": null,
            "flex": null,
            "flex_flow": null,
            "grid_area": null,
            "grid_auto_columns": null,
            "grid_auto_flow": null,
            "grid_auto_rows": null,
            "grid_column": null,
            "grid_gap": null,
            "grid_row": null,
            "grid_template_areas": null,
            "grid_template_columns": null,
            "grid_template_rows": null,
            "height": null,
            "justify_content": null,
            "justify_items": null,
            "left": null,
            "margin": null,
            "max_height": null,
            "max_width": null,
            "min_height": null,
            "min_width": null,
            "object_fit": null,
            "object_position": null,
            "order": null,
            "overflow": null,
            "overflow_x": null,
            "overflow_y": null,
            "padding": null,
            "right": null,
            "top": null,
            "visibility": null,
            "width": null
          }
        },
        "50936b4c56f74a8eab0c1f15001edb91": {
          "model_module": "@jupyter-widgets/controls",
          "model_name": "DescriptionStyleModel",
          "model_module_version": "1.5.0",
          "state": {
            "_model_module": "@jupyter-widgets/controls",
            "_model_module_version": "1.5.0",
            "_model_name": "DescriptionStyleModel",
            "_view_count": null,
            "_view_module": "@jupyter-widgets/base",
            "_view_module_version": "1.2.0",
            "_view_name": "StyleView",
            "description_width": ""
          }
        },
        "4af9752bd1e94f5eba42698872f5360b": {
          "model_module": "@jupyter-widgets/controls",
          "model_name": "HBoxModel",
          "model_module_version": "1.5.0",
          "state": {
            "_dom_classes": [],
            "_model_module": "@jupyter-widgets/controls",
            "_model_module_version": "1.5.0",
            "_model_name": "HBoxModel",
            "_view_count": null,
            "_view_module": "@jupyter-widgets/controls",
            "_view_module_version": "1.5.0",
            "_view_name": "HBoxView",
            "box_style": "",
            "children": [
              "IPY_MODEL_13d959f22d8e4f52918fd854fa11a924",
              "IPY_MODEL_e0644b66bd1f4b0d9cd518653cc51ac0",
              "IPY_MODEL_c708d2a689d249d784ab03cba1e0f6df"
            ],
            "layout": "IPY_MODEL_f961dedb95c041a996f696483afa5d54"
          }
        },
        "13d959f22d8e4f52918fd854fa11a924": {
          "model_module": "@jupyter-widgets/controls",
          "model_name": "HTMLModel",
          "model_module_version": "1.5.0",
          "state": {
            "_dom_classes": [],
            "_model_module": "@jupyter-widgets/controls",
            "_model_module_version": "1.5.0",
            "_model_name": "HTMLModel",
            "_view_count": null,
            "_view_module": "@jupyter-widgets/controls",
            "_view_module_version": "1.5.0",
            "_view_name": "HTMLView",
            "description": "",
            "description_tooltip": null,
            "layout": "IPY_MODEL_25205e2538d941488b5012792ad6f28d",
            "placeholder": "​",
            "style": "IPY_MODEL_f1885cb8bde34f928200ef9305db3381",
            "value": "Training: 100%"
          }
        },
        "e0644b66bd1f4b0d9cd518653cc51ac0": {
          "model_module": "@jupyter-widgets/controls",
          "model_name": "FloatProgressModel",
          "model_module_version": "1.5.0",
          "state": {
            "_dom_classes": [],
            "_model_module": "@jupyter-widgets/controls",
            "_model_module_version": "1.5.0",
            "_model_name": "FloatProgressModel",
            "_view_count": null,
            "_view_module": "@jupyter-widgets/controls",
            "_view_module_version": "1.5.0",
            "_view_name": "ProgressView",
            "bar_style": "success",
            "description": "",
            "description_tooltip": null,
            "layout": "IPY_MODEL_8342bae7a89b417285a8cbaf9c19b27b",
            "max": 50,
            "min": 0,
            "orientation": "horizontal",
            "style": "IPY_MODEL_4d851b964709407f9703cf2ede52ec1a",
            "value": 50
          }
        },
        "c708d2a689d249d784ab03cba1e0f6df": {
          "model_module": "@jupyter-widgets/controls",
          "model_name": "HTMLModel",
          "model_module_version": "1.5.0",
          "state": {
            "_dom_classes": [],
            "_model_module": "@jupyter-widgets/controls",
            "_model_module_version": "1.5.0",
            "_model_name": "HTMLModel",
            "_view_count": null,
            "_view_module": "@jupyter-widgets/controls",
            "_view_module_version": "1.5.0",
            "_view_name": "HTMLView",
            "description": "",
            "description_tooltip": null,
            "layout": "IPY_MODEL_d6897b8ad13c4d65a9d00995c274c604",
            "placeholder": "​",
            "style": "IPY_MODEL_00ea111cacf248a9950909975a082204",
            "value": " 50/50 [06:47&lt;00:00,  8.02s/epoch, loss=1.74]"
          }
        },
        "f961dedb95c041a996f696483afa5d54": {
          "model_module": "@jupyter-widgets/base",
          "model_name": "LayoutModel",
          "model_module_version": "1.2.0",
          "state": {
            "_model_module": "@jupyter-widgets/base",
            "_model_module_version": "1.2.0",
            "_model_name": "LayoutModel",
            "_view_count": null,
            "_view_module": "@jupyter-widgets/base",
            "_view_module_version": "1.2.0",
            "_view_name": "LayoutView",
            "align_content": null,
            "align_items": null,
            "align_self": null,
            "border": null,
            "bottom": null,
            "display": null,
            "flex": null,
            "flex_flow": null,
            "grid_area": null,
            "grid_auto_columns": null,
            "grid_auto_flow": null,
            "grid_auto_rows": null,
            "grid_column": null,
            "grid_gap": null,
            "grid_row": null,
            "grid_template_areas": null,
            "grid_template_columns": null,
            "grid_template_rows": null,
            "height": null,
            "justify_content": null,
            "justify_items": null,
            "left": null,
            "margin": null,
            "max_height": null,
            "max_width": null,
            "min_height": null,
            "min_width": null,
            "object_fit": null,
            "object_position": null,
            "order": null,
            "overflow": null,
            "overflow_x": null,
            "overflow_y": null,
            "padding": null,
            "right": null,
            "top": null,
            "visibility": null,
            "width": null
          }
        },
        "25205e2538d941488b5012792ad6f28d": {
          "model_module": "@jupyter-widgets/base",
          "model_name": "LayoutModel",
          "model_module_version": "1.2.0",
          "state": {
            "_model_module": "@jupyter-widgets/base",
            "_model_module_version": "1.2.0",
            "_model_name": "LayoutModel",
            "_view_count": null,
            "_view_module": "@jupyter-widgets/base",
            "_view_module_version": "1.2.0",
            "_view_name": "LayoutView",
            "align_content": null,
            "align_items": null,
            "align_self": null,
            "border": null,
            "bottom": null,
            "display": null,
            "flex": null,
            "flex_flow": null,
            "grid_area": null,
            "grid_auto_columns": null,
            "grid_auto_flow": null,
            "grid_auto_rows": null,
            "grid_column": null,
            "grid_gap": null,
            "grid_row": null,
            "grid_template_areas": null,
            "grid_template_columns": null,
            "grid_template_rows": null,
            "height": null,
            "justify_content": null,
            "justify_items": null,
            "left": null,
            "margin": null,
            "max_height": null,
            "max_width": null,
            "min_height": null,
            "min_width": null,
            "object_fit": null,
            "object_position": null,
            "order": null,
            "overflow": null,
            "overflow_x": null,
            "overflow_y": null,
            "padding": null,
            "right": null,
            "top": null,
            "visibility": null,
            "width": null
          }
        },
        "f1885cb8bde34f928200ef9305db3381": {
          "model_module": "@jupyter-widgets/controls",
          "model_name": "DescriptionStyleModel",
          "model_module_version": "1.5.0",
          "state": {
            "_model_module": "@jupyter-widgets/controls",
            "_model_module_version": "1.5.0",
            "_model_name": "DescriptionStyleModel",
            "_view_count": null,
            "_view_module": "@jupyter-widgets/base",
            "_view_module_version": "1.2.0",
            "_view_name": "StyleView",
            "description_width": ""
          }
        },
        "8342bae7a89b417285a8cbaf9c19b27b": {
          "model_module": "@jupyter-widgets/base",
          "model_name": "LayoutModel",
          "model_module_version": "1.2.0",
          "state": {
            "_model_module": "@jupyter-widgets/base",
            "_model_module_version": "1.2.0",
            "_model_name": "LayoutModel",
            "_view_count": null,
            "_view_module": "@jupyter-widgets/base",
            "_view_module_version": "1.2.0",
            "_view_name": "LayoutView",
            "align_content": null,
            "align_items": null,
            "align_self": null,
            "border": null,
            "bottom": null,
            "display": null,
            "flex": null,
            "flex_flow": null,
            "grid_area": null,
            "grid_auto_columns": null,
            "grid_auto_flow": null,
            "grid_auto_rows": null,
            "grid_column": null,
            "grid_gap": null,
            "grid_row": null,
            "grid_template_areas": null,
            "grid_template_columns": null,
            "grid_template_rows": null,
            "height": null,
            "justify_content": null,
            "justify_items": null,
            "left": null,
            "margin": null,
            "max_height": null,
            "max_width": null,
            "min_height": null,
            "min_width": null,
            "object_fit": null,
            "object_position": null,
            "order": null,
            "overflow": null,
            "overflow_x": null,
            "overflow_y": null,
            "padding": null,
            "right": null,
            "top": null,
            "visibility": null,
            "width": null
          }
        },
        "4d851b964709407f9703cf2ede52ec1a": {
          "model_module": "@jupyter-widgets/controls",
          "model_name": "ProgressStyleModel",
          "model_module_version": "1.5.0",
          "state": {
            "_model_module": "@jupyter-widgets/controls",
            "_model_module_version": "1.5.0",
            "_model_name": "ProgressStyleModel",
            "_view_count": null,
            "_view_module": "@jupyter-widgets/base",
            "_view_module_version": "1.2.0",
            "_view_name": "StyleView",
            "bar_color": null,
            "description_width": ""
          }
        },
        "d6897b8ad13c4d65a9d00995c274c604": {
          "model_module": "@jupyter-widgets/base",
          "model_name": "LayoutModel",
          "model_module_version": "1.2.0",
          "state": {
            "_model_module": "@jupyter-widgets/base",
            "_model_module_version": "1.2.0",
            "_model_name": "LayoutModel",
            "_view_count": null,
            "_view_module": "@jupyter-widgets/base",
            "_view_module_version": "1.2.0",
            "_view_name": "LayoutView",
            "align_content": null,
            "align_items": null,
            "align_self": null,
            "border": null,
            "bottom": null,
            "display": null,
            "flex": null,
            "flex_flow": null,
            "grid_area": null,
            "grid_auto_columns": null,
            "grid_auto_flow": null,
            "grid_auto_rows": null,
            "grid_column": null,
            "grid_gap": null,
            "grid_row": null,
            "grid_template_areas": null,
            "grid_template_columns": null,
            "grid_template_rows": null,
            "height": null,
            "justify_content": null,
            "justify_items": null,
            "left": null,
            "margin": null,
            "max_height": null,
            "max_width": null,
            "min_height": null,
            "min_width": null,
            "object_fit": null,
            "object_position": null,
            "order": null,
            "overflow": null,
            "overflow_x": null,
            "overflow_y": null,
            "padding": null,
            "right": null,
            "top": null,
            "visibility": null,
            "width": null
          }
        },
        "00ea111cacf248a9950909975a082204": {
          "model_module": "@jupyter-widgets/controls",
          "model_name": "DescriptionStyleModel",
          "model_module_version": "1.5.0",
          "state": {
            "_model_module": "@jupyter-widgets/controls",
            "_model_module_version": "1.5.0",
            "_model_name": "DescriptionStyleModel",
            "_view_count": null,
            "_view_module": "@jupyter-widgets/base",
            "_view_module_version": "1.2.0",
            "_view_name": "StyleView",
            "description_width": ""
          }
        }
      }
    }
  },
  "nbformat": 4,
  "nbformat_minor": 0
}